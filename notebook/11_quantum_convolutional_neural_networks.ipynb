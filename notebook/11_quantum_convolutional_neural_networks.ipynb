version https://git-lfs.github.com/spec/v1
oid sha256:59fc821f82de497285a4c0d26e626c325b4be7b48186396ba3ae94ee4786fa0b
size 747820
