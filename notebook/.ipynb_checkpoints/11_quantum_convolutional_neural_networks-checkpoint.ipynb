version https://git-lfs.github.com/spec/v1
oid sha256:5b60a91f46b8be6003b70017de55d9ec8ddfb4204cad90cdf143f29d748aa684
size 649575
